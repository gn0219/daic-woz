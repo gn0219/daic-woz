{
 "cells": [
  {
   "cell_type": "markdown",
   "id": "38c1db78",
   "metadata": {},
   "source": [
    "## Feature Extraction with Silence Removal"
   ]
  },
  {
   "cell_type": "code",
   "execution_count": 3,
   "id": "136d267c",
   "metadata": {},
   "outputs": [],
   "source": [
    "from pydub import AudioSegment, silence\n",
    "import opensmile\n",
    "import os\n",
    "import pandas as pd\n",
    "from tqdm import tqdm\n",
    "\n",
    "audio_dir = \"wav_files\"  # 각 Participant_ID.wav 파일이 있는 폴더\n",
    "output_dir = \"trimmed_audio/\"\n",
    "os.makedirs(output_dir, exist_ok=True)\n",
    "\n",
    "# Silence 제거 및 저장\n",
    "def remove_silence(input_path, output_path, silence_thresh=-40, min_silence_len=500):\n",
    "    audio = AudioSegment.from_wav(input_path)\n",
    "    chunks = silence.split_on_silence(audio, min_silence_len=min_silence_len, silence_thresh=silence_thresh)\n",
    "    if not chunks:\n",
    "        print(f\"[warning] no voiced chunks in {input_path}, copying as is.\")\n",
    "        audio.export(output_path, format=\"wav\")\n",
    "        return\n",
    "    voiced = sum(chunks)\n",
    "    voiced.export(output_path, format=\"wav\")"
   ]
  },
  {
   "cell_type": "code",
   "execution_count": 6,
   "id": "7fa568f1",
   "metadata": {},
   "outputs": [
    {
     "name": "stderr",
     "output_type": "stream",
     "text": [
      " 13%|█▎        | 24/189 [03:18<21:45,  7.91s/it]"
     ]
    },
    {
     "name": "stdout",
     "output_type": "stream",
     "text": [
      "[warning] no voiced chunks in wav_files\\323_AUDIO.wav, copying as is.\n"
     ]
    },
    {
     "name": "stderr",
     "output_type": "stream",
     "text": [
      " 29%|██▊       | 54/189 [07:18<15:32,  6.91s/it]"
     ]
    },
    {
     "name": "stdout",
     "output_type": "stream",
     "text": [
      "[warning] no voiced chunks in wav_files\\354_AUDIO.wav, copying as is.\n"
     ]
    },
    {
     "name": "stderr",
     "output_type": "stream",
     "text": [
      " 71%|███████   | 134/189 [19:31<07:55,  8.64s/it]"
     ]
    },
    {
     "name": "stdout",
     "output_type": "stream",
     "text": [
      "[warning] no voiced chunks in wav_files\\436_AUDIO.wav, copying as is.\n"
     ]
    },
    {
     "name": "stderr",
     "output_type": "stream",
     "text": [
      "100%|██████████| 189/189 [27:58<00:00,  8.88s/it]\n"
     ]
    }
   ],
   "source": [
    "info_path = 'data/info_df.csv'\n",
    "info_df = pd.read_csv(info_path)\n",
    "\n",
    "for pid in tqdm(info_df[\"Participant_ID\"].unique()):\n",
    "    input_path = os.path.join(audio_dir, f\"{pid}_AUDIO.wav\")\n",
    "    output_path = os.path.join(output_dir, f\"{pid}_AUDIO.wav\")\n",
    "    if os.path.exists(input_path):\n",
    "        remove_silence(input_path, output_path)"
   ]
  },
  {
   "cell_type": "code",
   "execution_count": 7,
   "id": "33bcd754",
   "metadata": {},
   "outputs": [],
   "source": [
    "def extract_opensmile_features(df: pd.DataFrame) -> pd.DataFrame:\n",
    "    temp_df = df.copy()\n",
    "    temp_df['wav_path'] = 'trimmed_audio/' + info_df['Participant_ID'].astype(str) + '_AUDIO.wav'\n",
    "    smile = opensmile.Smile(\n",
    "                feature_set = opensmile.FeatureSet.eGeMAPSv02, # eGeMAPSv02 does not use LLD, other options: ComParE_2016, ...\n",
    "                feature_level = opensmile.FeatureLevel.Functionals)\n",
    "\n",
    "    files = temp_df.wav_path\n",
    "    temp_features = smile.process_files(files)\n",
    "    temp_features.reset_index(inplace=True)\n",
    "    temp_features.drop(columns=['file', 'start', 'end'], axis=1, inplace=True)\n",
    "    temp_features.insert(0, 'Participant_ID', df['Participant_ID'].values)\n",
    "    return temp_features"
   ]
  },
  {
   "cell_type": "code",
   "execution_count": 8,
   "id": "8a47f363",
   "metadata": {},
   "outputs": [
    {
     "name": "stdout",
     "output_type": "stream",
     "text": [
      "data/smile_features_silence_removed.csv not found, extracting OpenSMILE features...\n"
     ]
    }
   ],
   "source": [
    "smile_path = \"data/smile_features_silence_removed.csv\"\n",
    "\n",
    "if not os.path.exists(smile_path):\n",
    "    print(f'{smile_path} not found, extracting OpenSMILE features...')\n",
    "    smile_df = extract_opensmile_features(info_df)\n",
    "    smile_df.to_csv(smile_path, index=False)\n",
    "else:\n",
    "    print(f'{smile_path} found, loading...')\n",
    "    smile_df = pd.read_csv(smile_path)"
   ]
  },
  {
   "cell_type": "code",
   "execution_count": null,
   "id": "6cbcc487",
   "metadata": {},
   "outputs": [],
   "source": []
  }
 ],
 "metadata": {
  "kernelspec": {
   "display_name": ".venv",
   "language": "python",
   "name": "python3"
  },
  "language_info": {
   "codemirror_mode": {
    "name": "ipython",
    "version": 3
   },
   "file_extension": ".py",
   "mimetype": "text/x-python",
   "name": "python",
   "nbconvert_exporter": "python",
   "pygments_lexer": "ipython3",
   "version": "3.11.8"
  }
 },
 "nbformat": 4,
 "nbformat_minor": 5
}
